{
 "cells": [
  {
   "cell_type": "code",
   "execution_count": 1,
   "id": "9163a035",
   "metadata": {},
   "outputs": [],
   "source": [
    "import pandas as pd\n",
    "import numpy as np\n",
    "import os\n",
    "import matplotlib.pyplot as plt\n",
    "import seaborn as sns\n",
    "import warnings\n",
    "import random\n",
    "from tqdm.notebook import tqdm\n",
    "warnings.filterwarnings('ignore')\n",
    "%matplotlib inline\n",
    "\n",
    "\n",
    "import tensorflow as tf\n",
    "from tensorflow.keras.preprocessing.image import load_img\n",
    "from tensorflow.keras.layers import Dense, Input, Dropout,Flatten, Conv2D, BatchNormalization, Activation, MaxPooling2D\n",
    "from tensorflow.keras.utils import to_categorical\n",
    "from tensorflow.keras.models import Model, Sequential\n",
    "from tensorflow.keras.optimizers import Adam\n",
    "from IPython.display import SVG, Image"
   ]
  },
  {
   "cell_type": "code",
   "execution_count": 2,
   "id": "339f6345",
   "metadata": {},
   "outputs": [],
   "source": [
    "train_dir='archive/train'\n",
    "test_dir='archive/test'"
   ]
  },
  {
   "cell_type": "code",
   "execution_count": 3,
   "id": "cc5e7985",
   "metadata": {},
   "outputs": [],
   "source": [
    "def load_dataset(directory):\n",
    "  image_paths=[]\n",
    "  labels=[]\n",
    "\n",
    "  for label in os.listdir(directory):\n",
    "    for filename in os.listdir(directory+\"/\"+label):\n",
    "      image_path=os.path.join(directory,label,filename)\n",
    "      image_paths.append(image_path)\n",
    "      labels.append(label)\n",
    "    print(label,\"compelted\")\n",
    "\n",
    "  return image_paths, labels"
   ]
  },
  {
   "cell_type": "code",
   "execution_count": 4,
   "id": "f42c1fd8",
   "metadata": {},
   "outputs": [
    {
     "name": "stdout",
     "output_type": "stream",
     "text": [
      "angry compelted\n",
      "disgust compelted\n",
      "fear compelted\n",
      "happy compelted\n",
      "neutral compelted\n",
      "sad compelted\n",
      "surprise compelted\n"
     ]
    },
    {
     "data": {
      "text/html": [
       "<div>\n",
       "<style scoped>\n",
       "    .dataframe tbody tr th:only-of-type {\n",
       "        vertical-align: middle;\n",
       "    }\n",
       "\n",
       "    .dataframe tbody tr th {\n",
       "        vertical-align: top;\n",
       "    }\n",
       "\n",
       "    .dataframe thead th {\n",
       "        text-align: right;\n",
       "    }\n",
       "</style>\n",
       "<table border=\"1\" class=\"dataframe\">\n",
       "  <thead>\n",
       "    <tr style=\"text-align: right;\">\n",
       "      <th></th>\n",
       "      <th>image</th>\n",
       "      <th>label</th>\n",
       "    </tr>\n",
       "  </thead>\n",
       "  <tbody>\n",
       "    <tr>\n",
       "      <th>0</th>\n",
       "      <td>archive/train\\fear\\Training_66512433.jpg</td>\n",
       "      <td>fear</td>\n",
       "    </tr>\n",
       "    <tr>\n",
       "      <th>1</th>\n",
       "      <td>archive/train\\sad\\Training_62872387.jpg</td>\n",
       "      <td>sad</td>\n",
       "    </tr>\n",
       "    <tr>\n",
       "      <th>2</th>\n",
       "      <td>archive/train\\sad\\Training_24535671.jpg</td>\n",
       "      <td>sad</td>\n",
       "    </tr>\n",
       "    <tr>\n",
       "      <th>3</th>\n",
       "      <td>archive/train\\surprise\\Training_49750167.jpg</td>\n",
       "      <td>surprise</td>\n",
       "    </tr>\n",
       "    <tr>\n",
       "      <th>4</th>\n",
       "      <td>archive/train\\fear\\Training_3573297.jpg</td>\n",
       "      <td>fear</td>\n",
       "    </tr>\n",
       "  </tbody>\n",
       "</table>\n",
       "</div>"
      ],
      "text/plain": [
       "                                          image     label\n",
       "0      archive/train\\fear\\Training_66512433.jpg      fear\n",
       "1       archive/train\\sad\\Training_62872387.jpg       sad\n",
       "2       archive/train\\sad\\Training_24535671.jpg       sad\n",
       "3  archive/train\\surprise\\Training_49750167.jpg  surprise\n",
       "4       archive/train\\fear\\Training_3573297.jpg      fear"
      ]
     },
     "execution_count": 4,
     "metadata": {},
     "output_type": "execute_result"
    }
   ],
   "source": [
    "train=pd.DataFrame()\n",
    "train['image'], train['label']=load_dataset(train_dir)\n",
    "\n",
    "train=train.sample(frac=1).reset_index(drop=True)\n",
    "train.head()"
   ]
  },
  {
   "cell_type": "code",
   "execution_count": 5,
   "id": "5fb6140f",
   "metadata": {},
   "outputs": [
    {
     "name": "stdout",
     "output_type": "stream",
     "text": [
      "angry compelted\n",
      "disgust compelted\n",
      "fear compelted\n",
      "happy compelted\n",
      "neutral compelted\n",
      "sad compelted\n",
      "surprise compelted\n"
     ]
    },
    {
     "data": {
      "text/html": [
       "<div>\n",
       "<style scoped>\n",
       "    .dataframe tbody tr th:only-of-type {\n",
       "        vertical-align: middle;\n",
       "    }\n",
       "\n",
       "    .dataframe tbody tr th {\n",
       "        vertical-align: top;\n",
       "    }\n",
       "\n",
       "    .dataframe thead th {\n",
       "        text-align: right;\n",
       "    }\n",
       "</style>\n",
       "<table border=\"1\" class=\"dataframe\">\n",
       "  <thead>\n",
       "    <tr style=\"text-align: right;\">\n",
       "      <th></th>\n",
       "      <th>image</th>\n",
       "      <th>label</th>\n",
       "    </tr>\n",
       "  </thead>\n",
       "  <tbody>\n",
       "    <tr>\n",
       "      <th>0</th>\n",
       "      <td>archive/test\\angry\\PrivateTest_10131363.jpg</td>\n",
       "      <td>angry</td>\n",
       "    </tr>\n",
       "    <tr>\n",
       "      <th>1</th>\n",
       "      <td>archive/test\\angry\\PrivateTest_10304478.jpg</td>\n",
       "      <td>angry</td>\n",
       "    </tr>\n",
       "    <tr>\n",
       "      <th>2</th>\n",
       "      <td>archive/test\\angry\\PrivateTest_1054527.jpg</td>\n",
       "      <td>angry</td>\n",
       "    </tr>\n",
       "    <tr>\n",
       "      <th>3</th>\n",
       "      <td>archive/test\\angry\\PrivateTest_10590091.jpg</td>\n",
       "      <td>angry</td>\n",
       "    </tr>\n",
       "    <tr>\n",
       "      <th>4</th>\n",
       "      <td>archive/test\\angry\\PrivateTest_1109992.jpg</td>\n",
       "      <td>angry</td>\n",
       "    </tr>\n",
       "  </tbody>\n",
       "</table>\n",
       "</div>"
      ],
      "text/plain": [
       "                                         image  label\n",
       "0  archive/test\\angry\\PrivateTest_10131363.jpg  angry\n",
       "1  archive/test\\angry\\PrivateTest_10304478.jpg  angry\n",
       "2   archive/test\\angry\\PrivateTest_1054527.jpg  angry\n",
       "3  archive/test\\angry\\PrivateTest_10590091.jpg  angry\n",
       "4   archive/test\\angry\\PrivateTest_1109992.jpg  angry"
      ]
     },
     "execution_count": 5,
     "metadata": {},
     "output_type": "execute_result"
    }
   ],
   "source": [
    "test=pd.DataFrame()\n",
    "test['image'], test['label']=load_dataset(test_dir)\n",
    "test.head()"
   ]
  },
  {
   "cell_type": "code",
   "execution_count": 6,
   "id": "d8342ad1",
   "metadata": {},
   "outputs": [],
   "source": [
    "from tensorflow.keras.preprocessing.image import load_img\n",
    "import numpy as np\n",
    "from tqdm import tqdm\n",
    "\n",
    "def extract_features(images):\n",
    "    features = []\n",
    "    for image in tqdm(images):\n",
    "        # Use color_mode=\"grayscale\" instead of grayscale=True\n",
    "        img = load_img(image, color_mode=\"grayscale\")\n",
    "        img = np.array(img)\n",
    "        features.append(img)\n",
    "    \n",
    "    features = np.array(features)\n",
    "    features = features.reshape(len(features), 48, 48, 1)  # Assuming images are 48x48\n",
    "    return features\n"
   ]
  },
  {
   "cell_type": "code",
   "execution_count": 7,
   "id": "a154ab07",
   "metadata": {},
   "outputs": [
    {
     "name": "stderr",
     "output_type": "stream",
     "text": [
      "100%|███████████████████████████████████████████████████████████████████████████| 28709/28709 [02:50<00:00, 168.71it/s]\n"
     ]
    }
   ],
   "source": [
    "train_features=extract_features(train['image'])"
   ]
  },
  {
   "cell_type": "code",
   "execution_count": 8,
   "id": "eb996dce",
   "metadata": {},
   "outputs": [
    {
     "name": "stderr",
     "output_type": "stream",
     "text": [
      "100%|████████████████████████████████████████████████████████████████████████████| 7178/7178 [00:03<00:00, 1945.90it/s]\n"
     ]
    }
   ],
   "source": [
    "test_features=extract_features(test['image'])"
   ]
  },
  {
   "cell_type": "code",
   "execution_count": 9,
   "id": "e93af9ef",
   "metadata": {},
   "outputs": [],
   "source": [
    "x_train=train_features/255.0\n",
    "x_test=test_features/255.0"
   ]
  },
  {
   "cell_type": "code",
   "execution_count": 10,
   "id": "1bc6a2b2",
   "metadata": {},
   "outputs": [],
   "source": [
    "from sklearn.preprocessing import LabelEncoder\n",
    "le=LabelEncoder()\n",
    "le.fit(train['label'])\n",
    "y_train=le.transform(train['label'])\n",
    "y_test=le.transform(test['label'])"
   ]
  },
  {
   "cell_type": "code",
   "execution_count": 11,
   "id": "71c7e0c8",
   "metadata": {},
   "outputs": [],
   "source": [
    "y_train=to_categorical(y_train,num_classes=7)\n",
    "y_test=to_categorical(y_test, num_classes=7)"
   ]
  },
  {
   "cell_type": "code",
   "execution_count": 12,
   "id": "6afc3ba2",
   "metadata": {},
   "outputs": [],
   "source": [
    "input_shape=(48,48,1)\n",
    "output_class=7"
   ]
  },
  {
   "cell_type": "code",
   "execution_count": 13,
   "id": "d3afef7c",
   "metadata": {},
   "outputs": [],
   "source": [
    "model = Sequential()\n",
    "model.add(Conv2D(32, (3,3), padding=\"Same\", activation='relu', input_shape=(48,48,1)))\n",
    "model.add(BatchNormalization())\n",
    "model.add(Conv2D(32, (5,5), padding=\"Same\", activation='relu'))\n",
    "model.add(MaxPooling2D((2,2)))\n",
    "model.add(Dropout(0.5))\n",
    "model.add(Conv2D(64, (3,3), padding=\"Same\", activation='relu'))\n",
    "model.add(BatchNormalization())\n",
    "model.add(Conv2D(64, (5,5), padding=\"Same\", activation='relu'))\n",
    "model.add(MaxPooling2D((2,2))) \n",
    "model.add(Dropout(0.5))\n",
    "model.add(Conv2D(128, (3,3), padding=\"Same\", activation='relu'))\n",
    "model.add(BatchNormalization())\n",
    "model.add(Conv2D(128, (5,5), padding=\"Same\", activation='relu'))\n",
    "model.add(MaxPooling2D((2,2))) \n",
    "model.add(Dropout(0.5))\n",
    "model.add(Flatten())\n",
    "model.add(Dense(256, activation='relu'))\n",
    "model.add(Dense(7, activation='sigmoid'))"
   ]
  },
  {
   "cell_type": "code",
   "execution_count": 14,
   "id": "64920002",
   "metadata": {},
   "outputs": [],
   "source": [
    "from keras.callbacks import ReduceLROnPlateau\n",
    "from keras.optimizers import Adam\n",
    "\n",
    "# Use 'learning_rate' instead of 'lr'\n",
    "optimizer = Adam(learning_rate=0.0005)\n",
    "\n",
    "# ReduceLROnPlateau callback to reduce learning rate on plateau\n",
    "lr_anneal = ReduceLROnPlateau(monitor='val_accuracy', patience=3, factor=0.2, min_lr=1e-6)\n"
   ]
  },
  {
   "cell_type": "code",
   "execution_count": 15,
   "id": "36c1931e",
   "metadata": {},
   "outputs": [],
   "source": [
    "model.compile(optimizer=optimizer, loss='categorical_crossentropy', metrics=['accuracy'])"
   ]
  },
  {
   "cell_type": "code",
   "execution_count": 16,
   "id": "bf873749",
   "metadata": {},
   "outputs": [
    {
     "name": "stdout",
     "output_type": "stream",
     "text": [
      "Epoch 1/50\n",
      "\u001b[1m288/288\u001b[0m \u001b[32m━━━━━━━━━━━━━━━━━━━━\u001b[0m\u001b[37m\u001b[0m \u001b[1m185s\u001b[0m 627ms/step - accuracy: 0.2386 - loss: 2.2084 - val_accuracy: 0.2471 - val_loss: 1.8654 - learning_rate: 5.0000e-04\n",
      "Epoch 2/50\n",
      "\u001b[1m288/288\u001b[0m \u001b[32m━━━━━━━━━━━━━━━━━━━━\u001b[0m\u001b[37m\u001b[0m \u001b[1m168s\u001b[0m 583ms/step - accuracy: 0.3406 - loss: 1.6502 - val_accuracy: 0.3948 - val_loss: 1.5320 - learning_rate: 5.0000e-04\n",
      "Epoch 3/50\n",
      "\u001b[1m288/288\u001b[0m \u001b[32m━━━━━━━━━━━━━━━━━━━━\u001b[0m\u001b[37m\u001b[0m \u001b[1m181s\u001b[0m 627ms/step - accuracy: 0.4220 - loss: 1.4828 - val_accuracy: 0.4568 - val_loss: 1.4500 - learning_rate: 5.0000e-04\n",
      "Epoch 4/50\n",
      "\u001b[1m288/288\u001b[0m \u001b[32m━━━━━━━━━━━━━━━━━━━━\u001b[0m\u001b[37m\u001b[0m \u001b[1m232s\u001b[0m 804ms/step - accuracy: 0.4647 - loss: 1.3852 - val_accuracy: 0.5125 - val_loss: 1.2658 - learning_rate: 5.0000e-04\n",
      "Epoch 5/50\n",
      "\u001b[1m288/288\u001b[0m \u001b[32m━━━━━━━━━━━━━━━━━━━━\u001b[0m\u001b[37m\u001b[0m \u001b[1m227s\u001b[0m 787ms/step - accuracy: 0.4952 - loss: 1.3054 - val_accuracy: 0.5031 - val_loss: 1.3016 - learning_rate: 5.0000e-04\n",
      "Epoch 6/50\n",
      "\u001b[1m288/288\u001b[0m \u001b[32m━━━━━━━━━━━━━━━━━━━━\u001b[0m\u001b[37m\u001b[0m \u001b[1m228s\u001b[0m 793ms/step - accuracy: 0.5184 - loss: 1.2556 - val_accuracy: 0.5318 - val_loss: 1.2632 - learning_rate: 5.0000e-04\n",
      "Epoch 7/50\n",
      "\u001b[1m288/288\u001b[0m \u001b[32m━━━━━━━━━━━━━━━━━━━━\u001b[0m\u001b[37m\u001b[0m \u001b[1m234s\u001b[0m 811ms/step - accuracy: 0.5374 - loss: 1.2075 - val_accuracy: 0.5339 - val_loss: 1.2211 - learning_rate: 5.0000e-04\n",
      "Epoch 8/50\n",
      "\u001b[1m288/288\u001b[0m \u001b[32m━━━━━━━━━━━━━━━━━━━━\u001b[0m\u001b[37m\u001b[0m \u001b[1m230s\u001b[0m 797ms/step - accuracy: 0.5485 - loss: 1.1723 - val_accuracy: 0.5535 - val_loss: 1.1830 - learning_rate: 5.0000e-04\n",
      "Epoch 9/50\n",
      "\u001b[1m288/288\u001b[0m \u001b[32m━━━━━━━━━━━━━━━━━━━━\u001b[0m\u001b[37m\u001b[0m \u001b[1m250s\u001b[0m 867ms/step - accuracy: 0.5666 - loss: 1.1346 - val_accuracy: 0.5599 - val_loss: 1.1599 - learning_rate: 5.0000e-04\n",
      "Epoch 10/50\n",
      "\u001b[1m288/288\u001b[0m \u001b[32m━━━━━━━━━━━━━━━━━━━━\u001b[0m\u001b[37m\u001b[0m \u001b[1m237s\u001b[0m 821ms/step - accuracy: 0.5872 - loss: 1.0918 - val_accuracy: 0.5879 - val_loss: 1.0941 - learning_rate: 5.0000e-04\n",
      "Epoch 11/50\n",
      "\u001b[1m288/288\u001b[0m \u001b[32m━━━━━━━━━━━━━━━━━━━━\u001b[0m\u001b[37m\u001b[0m \u001b[1m230s\u001b[0m 797ms/step - accuracy: 0.5971 - loss: 1.0751 - val_accuracy: 0.5894 - val_loss: 1.1245 - learning_rate: 5.0000e-04\n",
      "Epoch 12/50\n",
      "\u001b[1m288/288\u001b[0m \u001b[32m━━━━━━━━━━━━━━━━━━━━\u001b[0m\u001b[37m\u001b[0m \u001b[1m221s\u001b[0m 768ms/step - accuracy: 0.6025 - loss: 1.0623 - val_accuracy: 0.5780 - val_loss: 1.1453 - learning_rate: 5.0000e-04\n",
      "Epoch 13/50\n",
      "\u001b[1m288/288\u001b[0m \u001b[32m━━━━━━━━━━━━━━━━━━━━\u001b[0m\u001b[37m\u001b[0m \u001b[1m218s\u001b[0m 757ms/step - accuracy: 0.6161 - loss: 1.0224 - val_accuracy: 0.5798 - val_loss: 1.1655 - learning_rate: 5.0000e-04\n",
      "Epoch 14/50\n",
      "\u001b[1m288/288\u001b[0m \u001b[32m━━━━━━━━━━━━━━━━━━━━\u001b[0m\u001b[37m\u001b[0m \u001b[1m214s\u001b[0m 743ms/step - accuracy: 0.6216 - loss: 0.9960 - val_accuracy: 0.5960 - val_loss: 1.0987 - learning_rate: 5.0000e-04\n",
      "Epoch 15/50\n",
      "\u001b[1m288/288\u001b[0m \u001b[32m━━━━━━━━━━━━━━━━━━━━\u001b[0m\u001b[37m\u001b[0m \u001b[1m224s\u001b[0m 777ms/step - accuracy: 0.6347 - loss: 0.9706 - val_accuracy: 0.5942 - val_loss: 1.1097 - learning_rate: 5.0000e-04\n",
      "Epoch 16/50\n",
      "\u001b[1m288/288\u001b[0m \u001b[32m━━━━━━━━━━━━━━━━━━━━\u001b[0m\u001b[37m\u001b[0m \u001b[1m222s\u001b[0m 772ms/step - accuracy: 0.6423 - loss: 0.9549 - val_accuracy: 0.6152 - val_loss: 1.0576 - learning_rate: 5.0000e-04\n",
      "Epoch 17/50\n",
      "\u001b[1m288/288\u001b[0m \u001b[32m━━━━━━━━━━━━━━━━━━━━\u001b[0m\u001b[37m\u001b[0m \u001b[1m196s\u001b[0m 681ms/step - accuracy: 0.6462 - loss: 0.9412 - val_accuracy: 0.6096 - val_loss: 1.0649 - learning_rate: 5.0000e-04\n",
      "Epoch 18/50\n",
      "\u001b[1m288/288\u001b[0m \u001b[32m━━━━━━━━━━━━━━━━━━━━\u001b[0m\u001b[37m\u001b[0m \u001b[1m1475s\u001b[0m 5s/step - accuracy: 0.6469 - loss: 0.9442 - val_accuracy: 0.6225 - val_loss: 1.0786 - learning_rate: 5.0000e-04\n",
      "Epoch 19/50\n",
      "\u001b[1m288/288\u001b[0m \u001b[32m━━━━━━━━━━━━━━━━━━━━\u001b[0m\u001b[37m\u001b[0m \u001b[1m164s\u001b[0m 569ms/step - accuracy: 0.6548 - loss: 0.9141 - val_accuracy: 0.6202 - val_loss: 1.0934 - learning_rate: 5.0000e-04\n",
      "Epoch 20/50\n",
      "\u001b[1m288/288\u001b[0m \u001b[32m━━━━━━━━━━━━━━━━━━━━\u001b[0m\u001b[37m\u001b[0m \u001b[1m167s\u001b[0m 580ms/step - accuracy: 0.6643 - loss: 0.9024 - val_accuracy: 0.6184 - val_loss: 1.0661 - learning_rate: 5.0000e-04\n",
      "Epoch 21/50\n",
      "\u001b[1m288/288\u001b[0m \u001b[32m━━━━━━━━━━━━━━━━━━━━\u001b[0m\u001b[37m\u001b[0m \u001b[1m187s\u001b[0m 650ms/step - accuracy: 0.6716 - loss: 0.8812 - val_accuracy: 0.6304 - val_loss: 1.0639 - learning_rate: 5.0000e-04\n",
      "Epoch 22/50\n",
      "\u001b[1m288/288\u001b[0m \u001b[32m━━━━━━━━━━━━━━━━━━━━\u001b[0m\u001b[37m\u001b[0m \u001b[1m173s\u001b[0m 602ms/step - accuracy: 0.6756 - loss: 0.8650 - val_accuracy: 0.6259 - val_loss: 1.0629 - learning_rate: 5.0000e-04\n",
      "Epoch 23/50\n",
      "\u001b[1m288/288\u001b[0m \u001b[32m━━━━━━━━━━━━━━━━━━━━\u001b[0m\u001b[37m\u001b[0m \u001b[1m164s\u001b[0m 570ms/step - accuracy: 0.6836 - loss: 0.8377 - val_accuracy: 0.6106 - val_loss: 1.0972 - learning_rate: 5.0000e-04\n",
      "Epoch 24/50\n",
      "\u001b[1m288/288\u001b[0m \u001b[32m━━━━━━━━━━━━━━━━━━━━\u001b[0m\u001b[37m\u001b[0m \u001b[1m171s\u001b[0m 595ms/step - accuracy: 0.6912 - loss: 0.8220 - val_accuracy: 0.6347 - val_loss: 1.0561 - learning_rate: 5.0000e-04\n",
      "Epoch 25/50\n",
      "\u001b[1m288/288\u001b[0m \u001b[32m━━━━━━━━━━━━━━━━━━━━\u001b[0m\u001b[37m\u001b[0m \u001b[1m185s\u001b[0m 644ms/step - accuracy: 0.6924 - loss: 0.8195 - val_accuracy: 0.6350 - val_loss: 1.0772 - learning_rate: 5.0000e-04\n",
      "Epoch 26/50\n",
      "\u001b[1m288/288\u001b[0m \u001b[32m━━━━━━━━━━━━━━━━━━━━\u001b[0m\u001b[37m\u001b[0m \u001b[1m195s\u001b[0m 620ms/step - accuracy: 0.7012 - loss: 0.7936 - val_accuracy: 0.6365 - val_loss: 1.0418 - learning_rate: 5.0000e-04\n",
      "Epoch 27/50\n",
      "\u001b[1m288/288\u001b[0m \u001b[32m━━━━━━━━━━━━━━━━━━━━\u001b[0m\u001b[37m\u001b[0m \u001b[1m178s\u001b[0m 617ms/step - accuracy: 0.7010 - loss: 0.7947 - val_accuracy: 0.6326 - val_loss: 1.0750 - learning_rate: 5.0000e-04\n",
      "Epoch 28/50\n",
      "\u001b[1m288/288\u001b[0m \u001b[32m━━━━━━━━━━━━━━━━━━━━\u001b[0m\u001b[37m\u001b[0m \u001b[1m163s\u001b[0m 567ms/step - accuracy: 0.7079 - loss: 0.7790 - val_accuracy: 0.6149 - val_loss: 1.0990 - learning_rate: 5.0000e-04\n",
      "Epoch 29/50\n",
      "\u001b[1m288/288\u001b[0m \u001b[32m━━━━━━━━━━━━━━━━━━━━\u001b[0m\u001b[37m\u001b[0m \u001b[1m174s\u001b[0m 604ms/step - accuracy: 0.7170 - loss: 0.7591 - val_accuracy: 0.6449 - val_loss: 1.0859 - learning_rate: 5.0000e-04\n",
      "Epoch 30/50\n",
      "\u001b[1m288/288\u001b[0m \u001b[32m━━━━━━━━━━━━━━━━━━━━\u001b[0m\u001b[37m\u001b[0m \u001b[1m170s\u001b[0m 591ms/step - accuracy: 0.7188 - loss: 0.7477 - val_accuracy: 0.6413 - val_loss: 1.0657 - learning_rate: 5.0000e-04\n",
      "Epoch 31/50\n",
      "\u001b[1m288/288\u001b[0m \u001b[32m━━━━━━━━━━━━━━━━━━━━\u001b[0m\u001b[37m\u001b[0m \u001b[1m168s\u001b[0m 584ms/step - accuracy: 0.7226 - loss: 0.7396 - val_accuracy: 0.6269 - val_loss: 1.0756 - learning_rate: 5.0000e-04\n",
      "Epoch 32/50\n",
      "\u001b[1m288/288\u001b[0m \u001b[32m━━━━━━━━━━━━━━━━━━━━\u001b[0m\u001b[37m\u001b[0m \u001b[1m173s\u001b[0m 600ms/step - accuracy: 0.7345 - loss: 0.7155 - val_accuracy: 0.6402 - val_loss: 1.1373 - learning_rate: 5.0000e-04\n",
      "Epoch 33/50\n",
      "\u001b[1m288/288\u001b[0m \u001b[32m━━━━━━━━━━━━━━━━━━━━\u001b[0m\u001b[37m\u001b[0m \u001b[1m165s\u001b[0m 573ms/step - accuracy: 0.7479 - loss: 0.6730 - val_accuracy: 0.6565 - val_loss: 1.0695 - learning_rate: 1.0000e-04\n",
      "Epoch 34/50\n",
      "\u001b[1m288/288\u001b[0m \u001b[32m━━━━━━━━━━━━━━━━━━━━\u001b[0m\u001b[37m\u001b[0m \u001b[1m173s\u001b[0m 602ms/step - accuracy: 0.7591 - loss: 0.6520 - val_accuracy: 0.6570 - val_loss: 1.0726 - learning_rate: 1.0000e-04\n",
      "Epoch 35/50\n",
      "\u001b[1m288/288\u001b[0m \u001b[32m━━━━━━━━━━━━━━━━━━━━\u001b[0m\u001b[37m\u001b[0m \u001b[1m195s\u001b[0m 677ms/step - accuracy: 0.7649 - loss: 0.6327 - val_accuracy: 0.6587 - val_loss: 1.0752 - learning_rate: 1.0000e-04\n",
      "Epoch 36/50\n",
      "\u001b[1m288/288\u001b[0m \u001b[32m━━━━━━━━━━━━━━━━━━━━\u001b[0m\u001b[37m\u001b[0m \u001b[1m236s\u001b[0m 821ms/step - accuracy: 0.7715 - loss: 0.6220 - val_accuracy: 0.6576 - val_loss: 1.0603 - learning_rate: 1.0000e-04\n",
      "Epoch 37/50\n",
      "\u001b[1m288/288\u001b[0m \u001b[32m━━━━━━━━━━━━━━━━━━━━\u001b[0m\u001b[37m\u001b[0m \u001b[1m230s\u001b[0m 799ms/step - accuracy: 0.7746 - loss: 0.6086 - val_accuracy: 0.6605 - val_loss: 1.0851 - learning_rate: 1.0000e-04\n",
      "Epoch 38/50\n",
      "\u001b[1m288/288\u001b[0m \u001b[32m━━━━━━━━━━━━━━━━━━━━\u001b[0m\u001b[37m\u001b[0m \u001b[1m2643s\u001b[0m 9s/step - accuracy: 0.7730 - loss: 0.6030 - val_accuracy: 0.6585 - val_loss: 1.0901 - learning_rate: 1.0000e-04\n",
      "Epoch 39/50\n",
      "\u001b[1m288/288\u001b[0m \u001b[32m━━━━━━━━━━━━━━━━━━━━\u001b[0m\u001b[37m\u001b[0m \u001b[1m335s\u001b[0m 1s/step - accuracy: 0.7800 - loss: 0.5925 - val_accuracy: 0.6592 - val_loss: 1.0842 - learning_rate: 1.0000e-04\n",
      "Epoch 40/50\n",
      "\u001b[1m288/288\u001b[0m \u001b[32m━━━━━━━━━━━━━━━━━━━━\u001b[0m\u001b[37m\u001b[0m \u001b[1m227s\u001b[0m 788ms/step - accuracy: 0.7829 - loss: 0.5872 - val_accuracy: 0.6608 - val_loss: 1.0895 - learning_rate: 1.0000e-04\n",
      "Epoch 41/50\n",
      "\u001b[1m288/288\u001b[0m \u001b[32m━━━━━━━━━━━━━━━━━━━━\u001b[0m\u001b[37m\u001b[0m \u001b[1m237s\u001b[0m 822ms/step - accuracy: 0.7824 - loss: 0.5819 - val_accuracy: 0.6617 - val_loss: 1.0793 - learning_rate: 1.0000e-04\n",
      "Epoch 42/50\n",
      "\u001b[1m288/288\u001b[0m \u001b[32m━━━━━━━━━━━━━━━━━━━━\u001b[0m\u001b[37m\u001b[0m \u001b[1m223s\u001b[0m 775ms/step - accuracy: 0.7818 - loss: 0.5845 - val_accuracy: 0.6606 - val_loss: 1.0894 - learning_rate: 1.0000e-04\n",
      "Epoch 43/50\n"
     ]
    },
    {
     "name": "stdout",
     "output_type": "stream",
     "text": [
      "\u001b[1m288/288\u001b[0m \u001b[32m━━━━━━━━━━━━━━━━━━━━\u001b[0m\u001b[37m\u001b[0m \u001b[1m227s\u001b[0m 789ms/step - accuracy: 0.7829 - loss: 0.5783 - val_accuracy: 0.6638 - val_loss: 1.0946 - learning_rate: 1.0000e-04\n",
      "Epoch 44/50\n",
      "\u001b[1m288/288\u001b[0m \u001b[32m━━━━━━━━━━━━━━━━━━━━\u001b[0m\u001b[37m\u001b[0m \u001b[1m240s\u001b[0m 834ms/step - accuracy: 0.7905 - loss: 0.5623 - val_accuracy: 0.6663 - val_loss: 1.0871 - learning_rate: 1.0000e-04\n",
      "Epoch 45/50\n",
      "\u001b[1m288/288\u001b[0m \u001b[32m━━━━━━━━━━━━━━━━━━━━\u001b[0m\u001b[37m\u001b[0m \u001b[1m231s\u001b[0m 804ms/step - accuracy: 0.7907 - loss: 0.5683 - val_accuracy: 0.6658 - val_loss: 1.0901 - learning_rate: 1.0000e-04\n",
      "Epoch 46/50\n",
      "\u001b[1m288/288\u001b[0m \u001b[32m━━━━━━━━━━━━━━━━━━━━\u001b[0m\u001b[37m\u001b[0m \u001b[1m237s\u001b[0m 823ms/step - accuracy: 0.7954 - loss: 0.5515 - val_accuracy: 0.6658 - val_loss: 1.1007 - learning_rate: 1.0000e-04\n",
      "Epoch 47/50\n",
      "\u001b[1m288/288\u001b[0m \u001b[32m━━━━━━━━━━━━━━━━━━━━\u001b[0m\u001b[37m\u001b[0m \u001b[1m226s\u001b[0m 785ms/step - accuracy: 0.7926 - loss: 0.5532 - val_accuracy: 0.6637 - val_loss: 1.1019 - learning_rate: 1.0000e-04\n",
      "Epoch 48/50\n",
      "\u001b[1m288/288\u001b[0m \u001b[32m━━━━━━━━━━━━━━━━━━━━\u001b[0m\u001b[37m\u001b[0m \u001b[1m173s\u001b[0m 601ms/step - accuracy: 0.8009 - loss: 0.5324 - val_accuracy: 0.6670 - val_loss: 1.1012 - learning_rate: 2.0000e-05\n",
      "Epoch 49/50\n",
      "\u001b[1m288/288\u001b[0m \u001b[32m━━━━━━━━━━━━━━━━━━━━\u001b[0m\u001b[37m\u001b[0m \u001b[1m169s\u001b[0m 587ms/step - accuracy: 0.8066 - loss: 0.5242 - val_accuracy: 0.6665 - val_loss: 1.1054 - learning_rate: 2.0000e-05\n",
      "Epoch 50/50\n",
      "\u001b[1m288/288\u001b[0m \u001b[32m━━━━━━━━━━━━━━━━━━━━\u001b[0m\u001b[37m\u001b[0m \u001b[1m232s\u001b[0m 808ms/step - accuracy: 0.8032 - loss: 0.5312 - val_accuracy: 0.6663 - val_loss: 1.1061 - learning_rate: 2.0000e-05\n"
     ]
    }
   ],
   "source": [
    "history = model.fit(x_train, y_train, validation_data=[x_test, y_test], epochs=50, batch_size = 100, callbacks=[lr_anneal])"
   ]
  },
  {
   "cell_type": "code",
   "execution_count": 17,
   "id": "45b9edd1",
   "metadata": {},
   "outputs": [
    {
     "name": "stderr",
     "output_type": "stream",
     "text": [
      "WARNING:absl:You are saving your model as an HDF5 file via `model.save()` or `keras.saving.save_model(model)`. This file format is considered legacy. We recommend using instead the native Keras format, e.g. `model.save('my_model.keras')` or `keras.saving.save_model(model, 'my_model.keras')`. \n"
     ]
    }
   ],
   "source": [
    "model.save('model3_sep1.h5')"
   ]
  },
  {
   "cell_type": "code",
   "execution_count": 18,
   "id": "cdfc4963",
   "metadata": {},
   "outputs": [
    {
     "name": "stdout",
     "output_type": "stream",
     "text": [
      "\u001b[1m898/898\u001b[0m \u001b[32m━━━━━━━━━━━━━━━━━━━━\u001b[0m\u001b[37m\u001b[0m \u001b[1m62s\u001b[0m 69ms/step\n"
     ]
    }
   ],
   "source": [
    "predictions_model=model.predict(x_train)"
   ]
  },
  {
   "cell_type": "code",
   "execution_count": 19,
   "id": "31b4f20d",
   "metadata": {},
   "outputs": [
    {
     "name": "stdout",
     "output_type": "stream",
     "text": [
      "\u001b[1m225/225\u001b[0m \u001b[32m━━━━━━━━━━━━━━━━━━━━\u001b[0m\u001b[37m\u001b[0m \u001b[1m15s\u001b[0m 67ms/step\n"
     ]
    }
   ],
   "source": [
    "y_features=model.predict(x_test)"
   ]
  },
  {
   "cell_type": "code",
   "execution_count": 20,
   "id": "869e98c8",
   "metadata": {},
   "outputs": [],
   "source": [
    "valid_class=[]\n",
    "for i in y_test:\n",
    "    j=i.tolist()\n",
    "    valid_class.append(j.index(1))\n",
    "test_answers=np.array(valid_class)"
   ]
  },
  {
   "cell_type": "code",
   "execution_count": 21,
   "id": "8a82d650",
   "metadata": {},
   "outputs": [
    {
     "name": "stdout",
     "output_type": "stream",
     "text": [
      "Confusion Matrix:\n",
      "[[ 523    7   72   42  131  163   20]\n",
      " [  21   64    4    3    5   11    3]\n",
      " [ 103    3  394   27  151  259   87]\n",
      " [  28    1   21 1520  104   66   34]\n",
      " [  45    0   27   71  874  200   16]\n",
      " [  85    2   95   44  263  749    9]\n",
      " [  17    1   57   44   27   26  659]]\n",
      "Accuracy Score: 0.66634159933129\n",
      "0.65206168427717\n"
     ]
    }
   ],
   "source": [
    "from sklearn.metrics import classification_report, confusion_matrix, precision_score, recall_score, f1_score,accuracy_score\n",
    "predicted_classes = np.argmax(y_features, axis=1)\n",
    "# Calculate confusion matrix\n",
    "cm = confusion_matrix(test_answers, predicted_classes)\n",
    "print(\"Confusion Matrix:\")\n",
    "print(cm)\n",
    "\n",
    "# Optional: Calculate accuracy score\n",
    "accuracy = accuracy_score(test_answers, predicted_classes)\n",
    "print(\"Accuracy Score:\", accuracy)\n",
    "\n",
    "f1 = f1_score(test_answers, predicted_classes,average='macro')\n",
    "print(f1)"
   ]
  },
  {
   "cell_type": "code",
   "execution_count": 22,
   "id": "316e37d8",
   "metadata": {},
   "outputs": [
    {
     "data": {
      "image/png": "[encoded data removed]",
      "text/plain": [
       "<Figure size 640x480 with 2 Axes>"
      ]
     },
     "metadata": {},
     "output_type": "display_data"
    }
   ],
   "source": [
    "fig, ax = plt.subplots(2,1)\n",
    "ax[0].plot(history.history['loss'], color='b', label=\"Training loss\")\n",
    "ax[0].plot(history.history['val_loss'], color='r', label=\"validation loss\",axes =ax[0])\n",
    "legend = ax[0].legend(loc='best', shadow=True)\n",
    "\n",
    "ax[1].plot(history.history['accuracy'], color='b', label=\"Training accuracy\")\n",
    "ax[1].plot(history.history['val_accuracy'], color='r',label=\"Validation accuracy\")\n",
    "legend = ax[1].legend(loc='best', shadow=True)"
   ]
  },
  {
   "cell_type": "code",
   "execution_count": 23,
   "id": "521eacc8",
   "metadata": {},
   "outputs": [
    {
     "name": "stdout",
     "output_type": "stream",
     "text": [
      "\u001b[1m225/225\u001b[0m \u001b[32m━━━━━━━━━━━━━━━━━━━━\u001b[0m\u001b[37m\u001b[0m \u001b[1m15s\u001b[0m 68ms/step\n"
     ]
    },
    {
     "data": {
      "image/png": "[encoded data removed]",
      "text/plain": [
       "<Figure size 640x480 with 2 Axes>"
      ]
     },
     "metadata": {},
     "output_type": "display_data"
    }
   ],
   "source": [
    "from sklearn.metrics import confusion_matrix\n",
    "import itertools\n",
    "def plot_confusion_matrix(cm, classes,\n",
    "                          normalize=False,\n",
    "                          title='Confusion matrix',\n",
    "                          cmap=plt.cm.Blues):\n",
    "  \n",
    "    plt.imshow(cm, interpolation='nearest', cmap=cmap)\n",
    "    plt.title(title)\n",
    "    plt.colorbar()\n",
    "    tick_marks = np.arange(len(classes))\n",
    "    plt.xticks(tick_marks, classes, rotation=45)\n",
    "    plt.yticks(tick_marks, classes)\n",
    "    \n",
    "    \n",
    "    if normalize:\n",
    "        cm = cm.astype('float') / cm.sum(axis=1)[:, np.newaxis]\n",
    "\n",
    "    thresh = cm.max() / 2.\n",
    "    for i, j in itertools.product(range(cm.shape[0]), range(cm.shape[1])):\n",
    "        plt.text(j, i, cm[i, j],\n",
    "                 horizontalalignment=\"center\",\n",
    "                 color=\"white\" if cm[i, j] > thresh else \"black\")\n",
    "\n",
    "    plt.tight_layout()\n",
    "    plt.ylabel('True label')\n",
    "    plt.xlabel('Predicted label')\n",
    "\n",
    "# Predict the values from the validation dataset\n",
    "Y_pred = model.predict(x_test)\n",
    "# Convert predictions classes to one hot vectors \n",
    "Y_pred_classes = np.argmax(Y_pred,axis = 1) \n",
    "# Convert validation observations to one hot vectors\n",
    "Y_true = np.argmax(y_test,axis = 1) \n",
    "# compute the confusion matrix\n",
    "confusion_mtx = confusion_matrix(Y_true, Y_pred_classes) \n",
    "# plot the confusion matrix\n",
    "plot_confusion_matrix(confusion_mtx, classes = range(7)) "
   ]
  },
  {
   "cell_type": "code",
   "execution_count": 24,
   "id": "6840d590",
   "metadata": {},
   "outputs": [
    {
     "name": "stdout",
     "output_type": "stream",
     "text": [
      "\u001b[1m72/72\u001b[0m \u001b[32m━━━━━━━━━━━━━━━━━━━━\u001b[0m\u001b[37m\u001b[0m \u001b[1m15s\u001b[0m 207ms/step - accuracy: 0.6011 - loss: 1.3027\n",
      "Test score: 1.106083869934082\n",
      "Test accuracy: 0.6663416028022766\n"
     ]
    }
   ],
   "source": [
    "score, acc = model.evaluate(x_test, y_test, batch_size=100)\n",
    "print('Test score:', score)\n",
    "print(\"Test accuracy:\", acc)"
   ]
  }
 ],
 "metadata": {
  "kernelspec": {
   "display_name": "Python 3 (ipykernel)",
   "language": "python",
   "name": "python3"
  },
  "language_info": {
   "codemirror_mode": {
    "name": "ipython",
    "version": 3
   },
   "file_extension": ".py",
   "mimetype": "text/x-python",
   "name": "python",
   "nbconvert_exporter": "python",
   "pygments_lexer": "ipython3",
   "version": "3.10.9"
  }
 },
 "nbformat": 4,
 "nbformat_minor": 5
}
